{
 "cells": [
  {
   "cell_type": "markdown",
   "metadata": {},
   "source": [
    "# Kaggle \n",
    "Machine Learning/Deep Learning for the Detection of Oil Spills in Satellite Radar Images"
   ]
  },
  {
   "cell_type": "markdown",
   "metadata": {},
   "source": [
    "- https://www.kaggle.com/ashrafkhan94/oil-spill\n",
    "- https://machinelearningmastery.com/imbalanced-classification-model-to-detect-oil-spills/"
   ]
  },
  {
   "cell_type": "markdown",
   "metadata": {},
   "source": [
    "# Todo:\n",
    "Read Papers/articles:\n",
    "- https://arxiv.org/pdf/2006.13575.pdf\n",
    "- https://www.semanticscholar.org/paper/Early-Identification-of-Oil-Spills-in-Satellite-Krestenitis-Orfanidis/6d13fca70a7a56dbbd2589bb2e1364498eb46f7c\n",
    "- https://upcommons.upc.edu/bitstream/handle/2117/178755/Degree_Thesis_Xavier_Barrera.pdf"
   ]
  },
  {
   "cell_type": "raw",
   "metadata": {},
   "source": [
    "Everyone reads a paper and writes conclusion in github repo. One person could think about further extensions, similar appication/project. \n",
    "\n",
    "One person becomes project manager"
   ]
  },
  {
   "cell_type": "code",
   "execution_count": null,
   "metadata": {},
   "outputs": [],
   "source": []
  }
 ],
 "metadata": {
  "kernelspec": {
   "display_name": "pytorch",
   "language": "python",
   "name": "pytorch"
  },
  "language_info": {
   "codemirror_mode": {
    "name": "ipython",
    "version": 3
   },
   "file_extension": ".py",
   "mimetype": "text/x-python",
   "name": "python",
   "nbconvert_exporter": "python",
   "pygments_lexer": "ipython3",
   "version": "3.9.6"
  }
 },
 "nbformat": 4,
 "nbformat_minor": 4
}
